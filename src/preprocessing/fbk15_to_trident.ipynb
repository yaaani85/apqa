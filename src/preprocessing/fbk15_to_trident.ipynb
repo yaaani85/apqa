{
 "cells": [
  {
   "cell_type": "code",
   "execution_count": 1,
   "metadata": {},
   "outputs": [
    {
     "ename": "TypeError",
     "evalue": "Graph.add() takes 2 positional arguments but 3 were given",
     "output_type": "error",
     "traceback": [
      "\u001b[0;31m---------------------------------------------------------------------------\u001b[0m",
      "\u001b[0;31mTypeError\u001b[0m                                 Traceback (most recent call last)",
      "Cell \u001b[0;32mIn[1], line 19\u001b[0m\n\u001b[1;32m     17\u001b[0m             s, p, o \u001b[39m=\u001b[39m line\u001b[39m.\u001b[39msplit(\u001b[39m'\u001b[39m\u001b[39m\\t\u001b[39;00m\u001b[39m'\u001b[39m)\n\u001b[1;32m     18\u001b[0m             o \u001b[39m=\u001b[39m o\u001b[39m.\u001b[39mstrip(\u001b[39m\"\u001b[39m\u001b[39m\\n\u001b[39;00m\u001b[39m\"\u001b[39m)\n\u001b[0;32m---> 19\u001b[0m             g\u001b[39m.\u001b[39;49madd((URIRef(\u001b[39mf\u001b[39;49m\u001b[39m\"\u001b[39;49m\u001b[39m{\u001b[39;49;00ms\u001b[39m}\u001b[39;49;00m\u001b[39m\"\u001b[39;49m),  URIRef(\u001b[39mf\u001b[39;49m\u001b[39m\"\u001b[39;49m\u001b[39m{\u001b[39;49;00mp\u001b[39m}\u001b[39;49;00m\u001b[39m\"\u001b[39;49m), URIRef(\u001b[39mf\u001b[39;49m\u001b[39m\"\u001b[39;49m\u001b[39m{\u001b[39;49;00mo\u001b[39m}\u001b[39;49;00m\u001b[39m\"\u001b[39;49m)), Literal(\u001b[39m\"\u001b[39;49m\u001b[39m1\u001b[39;49m\u001b[39m\"\u001b[39;49m))\n\u001b[1;32m     22\u001b[0m g\u001b[39m.\u001b[39mserialize(\u001b[39mformat\u001b[39m\u001b[39m=\u001b[39m\u001b[39m\"\u001b[39m\u001b[39mnt11\u001b[39m\u001b[39m\"\u001b[39m, destination\u001b[39m=\u001b[39m\u001b[39m\"\u001b[39m\u001b[39mtrain_fbk15_prob.nt\u001b[39m\u001b[39m\"\u001b[39m)\n",
      "\u001b[0;31mTypeError\u001b[0m: Graph.add() takes 2 positional arguments but 3 were given"
     ]
    }
   ],
   "source": [
    "from rdflib import Graph, URIRef, Literal, BNode\n",
    "from rdflib.namespace import FOAF, RDF\n",
    "import os\n",
    "\n",
    "g = Graph()\n",
    "entities_to_name = {}\n",
    "with open('../../data/FB15k/entity2text.txt') as f:\n",
    "    for line in f:\n",
    "        fb_id, name = line.strip().split('\\t')\n",
    "        entities_to_name[fb_id] = name\n",
    "\n",
    "\n",
    "with open(\"../../data/FB15k/train.txt\") as file_in:\n",
    "\n",
    "\n",
    "        for line in file_in:\n",
    "            s, p, o = line.split('\\t')\n",
    "            o = o.strip(\"\\n\")\n",
    "            g.add((URIRef(f\"{s}\"),  URIRef(f\"{p}\"), URIRef(f\"{o}\")), Literal(\"1\"))\n",
    "\n",
    "\n",
    "g.serialize(format=\"nt11\", destination=\"train_fbk15_prob.nt\")\n",
    "\n"
   ]
  },
  {
   "cell_type": "code",
   "execution_count": null,
   "metadata": {},
   "outputs": [],
   "source": []
  },
  {
   "cell_type": "code",
   "execution_count": null,
   "metadata": {},
   "outputs": [],
   "source": []
  }
 ],
 "metadata": {
  "kernelspec": {
   "display_name": "Python 3",
   "language": "python",
   "name": "python3"
  },
  "language_info": {
   "codemirror_mode": {
    "name": "ipython",
    "version": 3
   },
   "file_extension": ".py",
   "mimetype": "text/x-python",
   "name": "python",
   "nbconvert_exporter": "python",
   "pygments_lexer": "ipython3",
   "version": "3.10.9"
  },
  "orig_nbformat": 4
 },
 "nbformat": 4,
 "nbformat_minor": 2
}
